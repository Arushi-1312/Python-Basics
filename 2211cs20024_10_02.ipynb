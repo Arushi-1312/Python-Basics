{
  "nbformat": 4,
  "nbformat_minor": 0,
  "metadata": {
    "colab": {
      "provenance": [],
      "authorship_tag": "ABX9TyNqxy/tlMgcS1NAFBUxBOg+",
      "include_colab_link": true
    },
    "kernelspec": {
      "name": "python3",
      "display_name": "Python 3"
    },
    "language_info": {
      "name": "python"
    }
  },
  "cells": [
    {
      "cell_type": "markdown",
      "metadata": {
        "id": "view-in-github",
        "colab_type": "text"
      },
      "source": [
        "<a href=\"https://colab.research.google.com/github/Arushi-1312/Python-Basics/blob/main/2211cs20024_10_02.ipynb\" target=\"_parent\"><img src=\"https://colab.research.google.com/assets/colab-badge.svg\" alt=\"Open In Colab\"/></a>"
      ]
    },
    {
      "cell_type": "code",
      "source": [
        "!pip install PyPDF2"
      ],
      "metadata": {
        "colab": {
          "base_uri": "https://localhost:8080/"
        },
        "id": "bjOcFOaKSxa7",
        "outputId": "6a43f41a-69d9-4e12-d2ff-82a66501112c"
      },
      "execution_count": 5,
      "outputs": [
        {
          "output_type": "stream",
          "name": "stdout",
          "text": [
            "Collecting PyPDF2\n",
            "  Downloading pypdf2-3.0.1-py3-none-any.whl.metadata (6.8 kB)\n",
            "Downloading pypdf2-3.0.1-py3-none-any.whl (232 kB)\n",
            "\u001b[2K   \u001b[90m━━━━━━━━━━━━━━━━━━━━━━━━━━━━━━━━━━━━━━━━\u001b[0m \u001b[32m232.6/232.6 kB\u001b[0m \u001b[31m3.5 MB/s\u001b[0m eta \u001b[36m0:00:00\u001b[0m\n",
            "\u001b[?25hInstalling collected packages: PyPDF2\n",
            "Successfully installed PyPDF2-3.0.1\n"
          ]
        }
      ]
    },
    {
      "cell_type": "code",
      "execution_count": 6,
      "metadata": {
        "id": "JodIO7G_RjyW"
      },
      "outputs": [],
      "source": [
        "import PyPDF2\n",
        "from PyPDF2 import PdfFileReader"
      ]
    },
    {
      "cell_type": "code",
      "source": [
        "PyPDF2.__version__"
      ],
      "metadata": {
        "colab": {
          "base_uri": "https://localhost:8080/",
          "height": 36
        },
        "id": "ZvIZ3zfJSf-L",
        "outputId": "63b5a380-7484-42eb-81c1-66de10ec389a"
      },
      "execution_count": 7,
      "outputs": [
        {
          "output_type": "execute_result",
          "data": {
            "text/plain": [
              "'3.0.1'"
            ],
            "application/vnd.google.colaboratory.intrinsic+json": {
              "type": "string"
            }
          },
          "metadata": {},
          "execution_count": 7
        }
      ]
    },
    {
      "cell_type": "code",
      "source": [
        "pdf=open(\"10 results.pdf\",\"rb\")\n",
        "pdf_reader=PyPDF2.PdfReader(pdf)\n",
        "print(\"Number of Pages:\",len(pdf_reader.pages))\n",
        "page=pdf_reader.pages[0]\n",
        "print(page.extract_text())\n",
        "pdf.close()"
      ],
      "metadata": {
        "colab": {
          "base_uri": "https://localhost:8080/"
        },
        "id": "W7aEmIp_S9uN",
        "outputId": "ee8e113c-f0b6-4994-efcd-aec06e3b222b"
      },
      "execution_count": 12,
      "outputs": [
        {
          "output_type": "stream",
          "name": "stdout",
          "text": [
            "Number of Pages: 1\n",
            " \n",
            "\n"
          ]
        }
      ]
    },
    {
      "cell_type": "code",
      "source": [
        "import PyPDF2,urllib,nltk\n",
        "from io import BytesIO\n",
        "from nltk.tokenize import word_tokenize\n",
        "from nltk.corpus import stopwords"
      ],
      "metadata": {
        "id": "hSMJ_HZ_VBzm"
      },
      "execution_count": 15,
      "outputs": []
    },
    {
      "cell_type": "code",
      "source": [
        "wFile = urllib.request.urlopen(\"http://www.udri.org/pdf/02%20working%20paper%201.pdf\")\n",
        "pdfreader = PyPDF2.PdfReader(BytesIO(wFile.read()))"
      ],
      "metadata": {
        "id": "bEVFQCv5Vl79"
      },
      "execution_count": 16,
      "outputs": []
    },
    {
      "cell_type": "code",
      "source": [
        "import nltk\n",
        "nltk.download('punkt_tab')\n",
        "nltk.download('stopwords')"
      ],
      "metadata": {
        "colab": {
          "base_uri": "https://localhost:8080/"
        },
        "id": "61IPWt4IXYFb",
        "outputId": "d4cae1b6-9030-49a2-c115-fbb62f7596e7"
      },
      "execution_count": 20,
      "outputs": [
        {
          "output_type": "stream",
          "name": "stderr",
          "text": [
            "[nltk_data] Downloading package punkt_tab to /root/nltk_data...\n",
            "[nltk_data]   Package punkt_tab is already up-to-date!\n",
            "[nltk_data] Downloading package stopwords to /root/nltk_data...\n",
            "[nltk_data]   Unzipping corpora/stopwords.zip.\n"
          ]
        },
        {
          "output_type": "execute_result",
          "data": {
            "text/plain": [
              "True"
            ]
          },
          "metadata": {},
          "execution_count": 20
        }
      ]
    },
    {
      "cell_type": "code",
      "source": [
        "from string import punctuation\n",
        "pageObj=pdfreader.pages[0]\n",
        "page0=pageObj.extract_text()\n",
        "punctuations=['(',')',';',':','[',']',',','...','.']\n",
        "tokens=word_tokenize(page0)\n",
        "stop_words=stopwords.words('english')\n",
        "keywords=[word for word in tokens if not word in stop_words and not word in punctuations]"
      ],
      "metadata": {
        "id": "8oPeOmHFXkq0"
      },
      "execution_count": 22,
      "outputs": []
    },
    {
      "cell_type": "code",
      "source": [
        "keywords"
      ],
      "metadata": {
        "colab": {
          "base_uri": "https://localhost:8080/"
        },
        "id": "3cCr4ntSXewD",
        "outputId": "4c127374-76fc-4c4d-e7c2-b578730285ef"
      },
      "execution_count": 23,
      "outputs": [
        {
          "output_type": "execute_result",
          "data": {
            "text/plain": [
              "['Development', 'Plan', 'Greater', 'Mumbai', '2014‐2034']"
            ]
          },
          "metadata": {},
          "execution_count": 23
        }
      ]
    },
    {
      "cell_type": "code",
      "source": [
        "name_list = list()\n",
        "check=['Mr.','Mrs.','Ms.']\n",
        "for idx, token in enumerate(tokens):\n",
        "  if token.startswith(tuple(check))and idx<(len(tokens)-1):\n",
        "    name=token+\" \"+tokens[idx+1]+' '+tokens[idx+2]\n",
        "    name_list.append(name)\n",
        "print(name_list)"
      ],
      "metadata": {
        "colab": {
          "base_uri": "https://localhost:8080/"
        },
        "id": "_oCmIdaaYPSD",
        "outputId": "c65eca8b-1abf-49a0-d459-2dc170b349a3"
      },
      "execution_count": 25,
      "outputs": [
        {
          "output_type": "stream",
          "name": "stdout",
          "text": [
            "[]\n"
          ]
        }
      ]
    },
    {
      "cell_type": "code",
      "source": [
        "wFile.close()"
      ],
      "metadata": {
        "id": "FfRy3m5jY7lH"
      },
      "execution_count": 26,
      "outputs": []
    },
    {
      "cell_type": "code",
      "source": [
        "!pip install python-docx"
      ],
      "metadata": {
        "colab": {
          "base_uri": "https://localhost:8080/"
        },
        "id": "cIeyXjjKZBi4",
        "outputId": "3d512d11-e963-4719-8a04-c76fdb16d172"
      },
      "execution_count": 27,
      "outputs": [
        {
          "output_type": "stream",
          "name": "stdout",
          "text": [
            "Collecting python-docx\n",
            "  Downloading python_docx-1.1.2-py3-none-any.whl.metadata (2.0 kB)\n",
            "Requirement already satisfied: lxml>=3.1.0 in /usr/local/lib/python3.11/dist-packages (from python-docx) (5.3.0)\n",
            "Requirement already satisfied: typing-extensions>=4.9.0 in /usr/local/lib/python3.11/dist-packages (from python-docx) (4.12.2)\n",
            "Downloading python_docx-1.1.2-py3-none-any.whl (244 kB)\n",
            "\u001b[?25l   \u001b[90m━━━━━━━━━━━━━━━━━━━━━━━━━━━━━━━━━━━━━━━━\u001b[0m \u001b[32m0.0/244.3 kB\u001b[0m \u001b[31m?\u001b[0m eta \u001b[36m-:--:--\u001b[0m\r\u001b[2K   \u001b[91m━━━━━━━━━━━━━━━━━━━━\u001b[0m\u001b[90m╺\u001b[0m\u001b[90m━━━━━━━━━━━━━━━━━━━\u001b[0m \u001b[32m122.9/244.3 kB\u001b[0m \u001b[31m3.5 MB/s\u001b[0m eta \u001b[36m0:00:01\u001b[0m\r\u001b[2K   \u001b[90m━━━━━━━━━━━━━━━━━━━━━━━━━━━━━━━━━━━━━━━━\u001b[0m \u001b[32m244.3/244.3 kB\u001b[0m \u001b[31m4.0 MB/s\u001b[0m eta \u001b[36m0:00:00\u001b[0m\n",
            "\u001b[?25hInstalling collected packages: python-docx\n",
            "Successfully installed python-docx-1.1.2\n"
          ]
        }
      ]
    },
    {
      "cell_type": "code",
      "source": [
        "import docx"
      ],
      "metadata": {
        "id": "0sHqEIK3ZwDC"
      },
      "execution_count": 28,
      "outputs": []
    },
    {
      "cell_type": "code",
      "source": [
        "doc=open(\"/content/arushi resume.docx\",\"rb\")\n",
        "document=docx.Document(doc)"
      ],
      "metadata": {
        "id": "NNxOL3x6Zzso"
      },
      "execution_count": 29,
      "outputs": []
    },
    {
      "cell_type": "code",
      "source": [
        "docu=\"\"\n",
        "for para in document.paragraphs:\n",
        "  docu+=para.text\n",
        "print(docu)"
      ],
      "metadata": {
        "colab": {
          "base_uri": "https://localhost:8080/"
        },
        "id": "pG2FovwEaIjA",
        "outputId": "8346bccd-c355-49c7-d089-f0aa7d12582d"
      },
      "execution_count": 31,
      "outputs": [
        {
          "output_type": "stream",
          "name": "stdout",
          "text": [
            "Arushi PatelG-35, laukushpuramShivli road, kalyanpurKanpur, Uttar Pradesh -RESUME830391248Email:arushipatel812@gmail.comOBJECTIVE:To work in my of expertise, seeking a quality employment in your esteemed organization where my knowledge can be shared and enriched, looking for the opportunities where my knowledge can be improvedEDUCATIONAL DETAILS:TECHNICAL SKILLS:HTML along with CSSMySQLPythonMicrosoft Tools – Office, Word, ExcelACHIEVEMENTS:Certified from Coursera in Effective Problem Solving and Decision – Making.Certified from Coursera in python programming – University of PennsylvaniaVolunteered Co-Curricular activities in collegeParticipated at college internal Hackathon held at Malla Reddy UniversitySTRENGTH:Able to work on any Shifts.Team leading skills.Able to work under pressure.Decision making.PatiencePERSONAL DETAILS:Father’s Name: Raghvendra SinghDate of Birth : 12/04/2004Gender:\tFemaleNationality:\tIndianLanguage Known: English, Hindi ,French\n"
          ]
        }
      ]
    },
    {
      "cell_type": "code",
      "source": [
        "for i in range(len(document.paragraphs)):\n",
        "  print(\"The content of the paragraph\"+str(i)+\"is:\"+document.paragraphs[i].text+\"\\n\")"
      ],
      "metadata": {
        "colab": {
          "base_uri": "https://localhost:8080/"
        },
        "id": "KItCq1IBbbo4",
        "outputId": "e66d951f-d6b7-4347-b30e-7523b3204573"
      },
      "execution_count": 32,
      "outputs": [
        {
          "output_type": "stream",
          "name": "stdout",
          "text": [
            "The content of the paragraph0is:\n",
            "\n",
            "The content of the paragraph1is:\n",
            "\n",
            "The content of the paragraph2is:Arushi Patel\n",
            "\n",
            "The content of the paragraph3is:G-35, laukushpuram\n",
            "\n",
            "The content of the paragraph4is:Shivli road, kalyanpur\n",
            "\n",
            "The content of the paragraph5is:Kanpur, Uttar Pradesh -\n",
            "\n",
            "The content of the paragraph6is:\n",
            "\n",
            "The content of the paragraph7is:RESUME\n",
            "\n",
            "The content of the paragraph8is:\n",
            "\n",
            "The content of the paragraph9is:\n",
            "\n",
            "The content of the paragraph10is:\n",
            "\n",
            "The content of the paragraph11is:830391248\n",
            "\n",
            "The content of the paragraph12is:Email:arushipatel812@gmail.com\n",
            "\n",
            "The content of the paragraph13is:\n",
            "\n",
            "The content of the paragraph14is:\n",
            "\n",
            "The content of the paragraph15is:\n",
            "\n",
            "The content of the paragraph16is:OBJECTIVE:\n",
            "\n",
            "The content of the paragraph17is:To work in my of expertise, seeking a quality employment in your esteemed organization where my knowledge can be shared and enriched, looking for the opportunities where my knowledge can be improved\n",
            "\n",
            "The content of the paragraph18is:EDUCATIONAL DETAILS:\n",
            "\n",
            "The content of the paragraph19is:\n",
            "\n",
            "The content of the paragraph20is:TECHNICAL SKILLS:\n",
            "\n",
            "The content of the paragraph21is:HTML along with CSS\n",
            "\n",
            "The content of the paragraph22is:MySQL\n",
            "\n",
            "The content of the paragraph23is:Python\n",
            "\n",
            "The content of the paragraph24is:Microsoft Tools – Office, Word, Excel\n",
            "\n",
            "The content of the paragraph25is:ACHIEVEMENTS:\n",
            "\n",
            "The content of the paragraph26is:Certified from Coursera in Effective Problem Solving and Decision – Making.\n",
            "\n",
            "The content of the paragraph27is:Certified from Coursera in python programming – University of Pennsylvania\n",
            "\n",
            "The content of the paragraph28is:Volunteered Co-Curricular activities in college\n",
            "\n",
            "The content of the paragraph29is:Participated at college internal Hackathon held at Malla Reddy University\n",
            "\n",
            "The content of the paragraph30is:STRENGTH:\n",
            "\n",
            "The content of the paragraph31is:Able to work on any Shifts.\n",
            "\n",
            "The content of the paragraph32is:Team leading skills.\n",
            "\n",
            "The content of the paragraph33is:Able to work under pressure.\n",
            "\n",
            "The content of the paragraph34is:Decision making.\n",
            "\n",
            "The content of the paragraph35is:Patience\n",
            "\n",
            "The content of the paragraph36is:PERSONAL DETAILS:\n",
            "\n",
            "The content of the paragraph37is:Father’s Name: Raghvendra Singh\n",
            "\n",
            "The content of the paragraph38is:Date of Birth : 12/04/2004\n",
            "\n",
            "The content of the paragraph39is:Gender:\tFemale\n",
            "\n",
            "The content of the paragraph40is:Nationality:\tIndian\n",
            "\n",
            "The content of the paragraph41is:Language Known: English, Hindi ,French\n",
            "\n",
            "The content of the paragraph42is:\n",
            "\n",
            "The content of the paragraph43is:\n",
            "\n"
          ]
        }
      ]
    }
  ]
}