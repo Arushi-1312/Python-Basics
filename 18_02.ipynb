{
  "nbformat": 4,
  "nbformat_minor": 0,
  "metadata": {
    "colab": {
      "provenance": [],
      "authorship_tag": "ABX9TyPJXdmwWwq6R8SRIoZCznSu",
      "include_colab_link": true
    },
    "kernelspec": {
      "name": "python3",
      "display_name": "Python 3"
    },
    "language_info": {
      "name": "python"
    }
  },
  "cells": [
    {
      "cell_type": "markdown",
      "metadata": {
        "id": "view-in-github",
        "colab_type": "text"
      },
      "source": [
        "<a href=\"https://colab.research.google.com/github/Arushi-1312/Python-Basics/blob/main/18_02.ipynb\" target=\"_parent\"><img src=\"https://colab.research.google.com/assets/colab-badge.svg\" alt=\"Open In Colab\"/></a>"
      ]
    },
    {
      "cell_type": "markdown",
      "source": [
        "**WEB SCRAPPING**"
      ],
      "metadata": {
        "id": "yMjx-UzBd7tu"
      }
    },
    {
      "cell_type": "code",
      "execution_count": 1,
      "metadata": {
        "colab": {
          "base_uri": "https://localhost:8080/"
        },
        "id": "mVGixETUdXoe",
        "outputId": "602b6afe-d195-4b3c-bbe5-8aa42471d5ed"
      },
      "outputs": [
        {
          "output_type": "stream",
          "name": "stdout",
          "text": [
            "Requirement already satisfied: requests in /usr/local/lib/python3.11/dist-packages (2.32.3)\n",
            "Requirement already satisfied: beautifulsoup4 in /usr/local/lib/python3.11/dist-packages (4.13.3)\n",
            "Requirement already satisfied: charset-normalizer<4,>=2 in /usr/local/lib/python3.11/dist-packages (from requests) (3.4.1)\n",
            "Requirement already satisfied: idna<4,>=2.5 in /usr/local/lib/python3.11/dist-packages (from requests) (3.10)\n",
            "Requirement already satisfied: urllib3<3,>=1.21.1 in /usr/local/lib/python3.11/dist-packages (from requests) (2.3.0)\n",
            "Requirement already satisfied: certifi>=2017.4.17 in /usr/local/lib/python3.11/dist-packages (from requests) (2025.1.31)\n",
            "Requirement already satisfied: soupsieve>1.2 in /usr/local/lib/python3.11/dist-packages (from beautifulsoup4) (2.6)\n",
            "Requirement already satisfied: typing-extensions>=4.0.0 in /usr/local/lib/python3.11/dist-packages (from beautifulsoup4) (4.12.2)\n"
          ]
        }
      ],
      "source": [
        "!pip install requests beautifulsoup4"
      ]
    },
    {
      "cell_type": "code",
      "source": [
        "from typing import Text\n",
        "import requests\n",
        "from bs4 import BeautifulSoup\n",
        "url=\"http://quotes.toscrape.com/\"\n",
        "response=requests.get(url)\n",
        "if response.status_code==200:\n",
        "  soup=BeautifulSoup(response.text,\"html.parser\")\n",
        "  quotes=soup.find_all(\"div\",class_=\"quote\")\n",
        "  for i,quote in enumerate(quotes[:5]):\n",
        "    text=quote.find(\"span\",class_=\"text\").text\n",
        "    author=quote.find(\"small\",class_=\"author\").text\n",
        "    tags=[tag.text for tag in quote.find_all(\"a\",class_=\"tag\")]\n",
        "    print(f\"{i+1}.\\\"{text}\\\"-{author}\")\n",
        "    print(f\"Tags:{','.join(tags)}\\n\")\n",
        "else:\n",
        "  print(f\"Failed to retrieve the webpage.Staus Code:{response.status_code}\")\n"
      ],
      "metadata": {
        "colab": {
          "base_uri": "https://localhost:8080/"
        },
        "id": "3QiAdt96gEbu",
        "outputId": "b2dd0e20-a52d-4d39-e507-b2dfe3f54923"
      },
      "execution_count": 4,
      "outputs": [
        {
          "output_type": "stream",
          "name": "stdout",
          "text": [
            "1.\"“The world as we have created it is a process of our thinking. It cannot be changed without changing our thinking.”\"-Albert Einstein\n",
            "Tags:change,deep-thoughts,thinking,world\n",
            "\n",
            "2.\"“It is our choices, Harry, that show what we truly are, far more than our abilities.”\"-J.K. Rowling\n",
            "Tags:abilities,choices\n",
            "\n",
            "3.\"“There are only two ways to live your life. One is as though nothing is a miracle. The other is as though everything is a miracle.”\"-Albert Einstein\n",
            "Tags:inspirational,life,live,miracle,miracles\n",
            "\n",
            "4.\"“The person, be it gentleman or lady, who has not pleasure in a good novel, must be intolerably stupid.”\"-Jane Austen\n",
            "Tags:aliteracy,books,classic,humor\n",
            "\n",
            "5.\"“Imperfection is beauty, madness is genius and it's better to be absolutely ridiculous than absolutely boring.”\"-Marilyn Monroe\n",
            "Tags:be-yourself,inspirational\n",
            "\n"
          ]
        }
      ]
    },
    {
      "cell_type": "code",
      "source": [
        "import requests\n",
        "from bs4 import BeautifulSoup\n",
        "city=\"india/hyderabad\"\n",
        "url=f\"https://www.timeanddate.com/weather/{city}\"\n",
        "response=requests.get(url)\n",
        "soup=BeautifulSoup(response.text,\"html.parser\")\n",
        "desc=soup.find(\"div\",class_=\"h2\").text.strip()if soup.find(\"div\",class_=\"h2\")else(\"N/A\")\n",
        "print(f\"Current Weather in Hyderabad:{temp}|{desc}\")"
      ],
      "metadata": {
        "colab": {
          "base_uri": "https://localhost:8080/"
        },
        "id": "rZXrawmxghZf",
        "outputId": "6767ec75-499c-4876-f887-0c0be356f5e2"
      },
      "execution_count": 6,
      "outputs": [
        {
          "output_type": "stream",
          "name": "stdout",
          "text": [
            "Current Weather in Hyderabad:86 °F|86 °F\n"
          ]
        }
      ]
    },
    {
      "cell_type": "code",
      "source": [
        "import requests\n",
        "from bs4 import BeautifulSoup\n",
        "city=\"india/Kanpur\"\n",
        "url=f\"https://www.timeanddate.com/weather/{city}\"\n",
        "response=requests.get(url)\n",
        "soup=BeautifulSoup(response.text,\"html.parser\")\n",
        "desc=soup.find(\"div\",class_=\"h2\").text.strip()if soup.find(\"div\",class_=\"h2\")else(\"N/A\")\n",
        "print(f\"Current Weather in Kanpur:{temp}|{desc}\")"
      ],
      "metadata": {
        "colab": {
          "base_uri": "https://localhost:8080/"
        },
        "id": "CWIqcqmWhTp-",
        "outputId": "56296800-54d5-47b8-9332-dc1a3c9466cc"
      },
      "execution_count": 8,
      "outputs": [
        {
          "output_type": "stream",
          "name": "stdout",
          "text": [
            "Current Weather in Kanpur:86 °F|75 °F\n"
          ]
        }
      ]
    },
    {
      "cell_type": "code",
      "source": [
        "import requests\n",
        "from bs4 import BeautifulSoup\n",
        "search_url=\"https://www.amazon.in/iPhone-16-Pro-Max-256/dp/B0DGJJM5HZ/ref=sr_1_3?crid=6D5MC01WEMSH&dib=eyJ2IjoiMSJ9._2x8IUpCs9yuvr42V7LJnlFdFdwkY2Cy2Qcm3vzsSXi6GFGdGRByZm0QTQvN0taBqawNlQ90VSlRRz4YSaM4bJlBZfrODgGsveTo3cRWFm_Mny0U1TdoRAwWE1GsMtgxVtHiZXiXpFIF0sFjvPvo3bdLEVHOGvnKHyoiqCU6JpuWWTQ-2yEdlQ-u2j8v9RjUet4RTT0Nz3OlDQ3Ln-Gi6XEMNvetYD1oMQNj7gjW6r4.PXTY6m-7Jm68MXEhsG0Vsn0yZrD13SfqjF3q1YLCFxo&dib_tag=se&keywords=iphone%2B16pro%2Bmax&nsdOptOutParam=true&qid=1739857426&sprefix=ipho%2Caps%2C211&sr=8-3&th=1\"\n",
        "headers={\n",
        "    \"User-Agent\": \"Mozilla/5.0(Windows Nt 10.0; Win64; x64)AppleWebKit/537,36(KHTML,like Gecko)Chrome/91.0.4472.124 Safari/537.36\"\n",
        "}\n",
        "response=requests.get(search_url,headers=headers)\n",
        "soup=BeautifulSoup(response.text,\"html.parser\")\n",
        "product=soup.select_one(\"span.a-size-medium\")\n",
        "price=soup.select_one(\"span.a-price-whole\")\n",
        "if product and price:\n",
        "  print(f\"Product: {product.text.strip()}\")\n",
        "  print(f\"Price: Rs.{price.text.strip()}\")"
      ],
      "metadata": {
        "colab": {
          "base_uri": "https://localhost:8080/"
        },
        "id": "AwOzEU79nr43",
        "outputId": "7c9dd70f-367a-4b59-993f-a2e803db69a5"
      },
      "execution_count": 23,
      "outputs": [
        {
          "output_type": "stream",
          "name": "stdout",
          "text": [
            "Product: Which phone would you like to exchange?\n",
            "Price: Rs.1,37,900.\n"
          ]
        }
      ]
    },
    {
      "cell_type": "code",
      "source": [
        "import requests\n",
        "from bs4 import BeautifulSoup\n",
        "url=\"https://en.wikipedia.org/wiki/List_of_countries_and_dependencies_by_population\"\n",
        "response=requests.get(url,headers=headers)\n",
        "soup=BeautifulSoup(response.text,\"html.parser\")\n",
        "table=soup.find(\"table\",class_=\"wikitable\")\n",
        "for row in table.find_all(\"tr\")[1:6]:\n",
        "  columns=row.find_all(\"td\")\n",
        "  country=columns[1].text.strip()\n",
        "  population=columns[2].text.strip()\n",
        "  print(f\"{country}:{population}\")"
      ],
      "metadata": {
        "colab": {
          "base_uri": "https://localhost:8080/"
        },
        "id": "2YnUniRumkig",
        "outputId": "576d99c5-95cf-4d71-a1e5-e0f8b6890eeb"
      },
      "execution_count": 19,
      "outputs": [
        {
          "output_type": "stream",
          "name": "stdout",
          "text": [
            "World:8,119,000,000\n",
            "China:1,408,280,000\n",
            "1,402,737,000:17.2%\n",
            "United States:340,110,988\n",
            "Indonesia:282,477,584\n"
          ]
        }
      ]
    },
    {
      "cell_type": "code",
      "source": [
        "from IPython.display import display,HTML"
      ],
      "metadata": {
        "id": "AKY7WdukoHcJ"
      },
      "execution_count": 24,
      "outputs": []
    },
    {
      "cell_type": "code",
      "source": [
        "display(HTML(\"\"\"<table>\n",
        "  <tr>\n",
        "    <th>Company</th>\n",
        "    <th>Contact</th>\n",
        "    <th>Country</th>\n",
        "  </tr>\n",
        "  <tr>\n",
        "    <td>Alfreds Futterkiste</td>\n",
        "    <td>Maria Andres</td>\n",
        "    <td>Germany</td>\n",
        "  </tr>\n",
        "  <tr>\n",
        "    <td>Centro comercial Moctezuma</td>\n",
        "    <td>Francisco Chang</td>\n",
        "    <td>Mexico</td>\n",
        "  </tr>\n",
        " </table>\n",
        "\"\"\"))"
      ],
      "metadata": {
        "colab": {
          "base_uri": "https://localhost:8080/",
          "height": 81
        },
        "id": "_v9OqBVVoSwz",
        "outputId": "f3ecd4fc-d0ba-439a-d634-e58d373dabf8"
      },
      "execution_count": 25,
      "outputs": [
        {
          "output_type": "display_data",
          "data": {
            "text/plain": [
              "<IPython.core.display.HTML object>"
            ],
            "text/html": [
              "<table>\n",
              "  <tr>\n",
              "    <th>Company</th>\n",
              "    <th>Contact</th>\n",
              "    <th>Country</th>\n",
              "  </tr>\n",
              "  <tr>\n",
              "    <td>Alfreds Futterkiste</td>\n",
              "    <td>Maria Andres</td>\n",
              "    <td>Germany</td>\n",
              "  </tr>\n",
              "  <tr>\n",
              "    <td>Centro comercial Moctezuma</td>\n",
              "    <td>Francisco Chang</td>\n",
              "    <td>Mexico</td>\n",
              "  </tr>\n",
              " </table> \n"
            ]
          },
          "metadata": {}
        }
      ]
    }
  ]
}