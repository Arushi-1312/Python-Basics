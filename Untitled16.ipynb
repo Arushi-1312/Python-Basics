{
  "nbformat": 4,
  "nbformat_minor": 0,
  "metadata": {
    "colab": {
      "provenance": [],
      "authorship_tag": "ABX9TyPOj/hEREIQ2FkU2FxaQ+8r",
      "include_colab_link": true
    },
    "kernelspec": {
      "name": "python3",
      "display_name": "Python 3"
    },
    "language_info": {
      "name": "python"
    }
  },
  "cells": [
    {
      "cell_type": "markdown",
      "metadata": {
        "id": "view-in-github",
        "colab_type": "text"
      },
      "source": [
        "<a href=\"https://colab.research.google.com/github/Arushi-1312/Python-Basics/blob/main/Untitled16.ipynb\" target=\"_parent\"><img src=\"https://colab.research.google.com/assets/colab-badge.svg\" alt=\"Open In Colab\"/></a>"
      ]
    },
    {
      "cell_type": "code",
      "execution_count": 1,
      "metadata": {
        "colab": {
          "base_uri": "https://localhost:8080/"
        },
        "id": "KgZ7WswT_AiQ",
        "outputId": "2bd092e8-7fc0-4ac6-8c2b-0b1dd003d2d5"
      },
      "outputs": [
        {
          "output_type": "stream",
          "name": "stdout",
          "text": [
            "Collecting PyPDF2\n",
            "  Downloading pypdf2-3.0.1-py3-none-any.whl.metadata (6.8 kB)\n",
            "Downloading pypdf2-3.0.1-py3-none-any.whl (232 kB)\n",
            "\u001b[?25l   \u001b[90m━━━━━━━━━━━━━━━━━━━━━━━━━━━━━━━━━━━━━━━━\u001b[0m \u001b[32m0.0/232.6 kB\u001b[0m \u001b[31m?\u001b[0m eta \u001b[36m-:--:--\u001b[0m\r\u001b[2K   \u001b[90m━━━━━━━━━━━━━━━━━━━━━━━━━━━━━━━━━━━━━━━━\u001b[0m \u001b[32m232.6/232.6 kB\u001b[0m \u001b[31m8.0 MB/s\u001b[0m eta \u001b[36m0:00:00\u001b[0m\n",
            "\u001b[?25hInstalling collected packages: PyPDF2\n",
            "Successfully installed PyPDF2-3.0.1\n"
          ]
        }
      ],
      "source": [
        "pip install PyPDF2"
      ]
    },
    {
      "cell_type": "code",
      "source": [
        "!pip install google-generativeai # install google-generativeai\n",
        "import google.generativeai as genai # changed from google.generative to google.generativeai\n",
        "from google.colab import userdata # fixed typo from userdara to userdata\n",
        "GOOGLE_API_KEY = userdata.get('GEMINI_API_KEY')\n",
        "genai.configure(api_key=GOOGLE_API_KEY)"
      ],
      "metadata": {
        "colab": {
          "base_uri": "https://localhost:8080/"
        },
        "id": "qt4Ks9SP_5iq",
        "outputId": "28466a87-2ec6-4a35-c01d-015be323143c"
      },
      "execution_count": 5,
      "outputs": [
        {
          "output_type": "stream",
          "name": "stdout",
          "text": [
            "Requirement already satisfied: google-generativeai in /usr/local/lib/python3.11/dist-packages (0.8.4)\n",
            "Requirement already satisfied: google-ai-generativelanguage==0.6.15 in /usr/local/lib/python3.11/dist-packages (from google-generativeai) (0.6.15)\n",
            "Requirement already satisfied: google-api-core in /usr/local/lib/python3.11/dist-packages (from google-generativeai) (2.24.2)\n",
            "Requirement already satisfied: google-api-python-client in /usr/local/lib/python3.11/dist-packages (from google-generativeai) (2.160.0)\n",
            "Requirement already satisfied: google-auth>=2.15.0 in /usr/local/lib/python3.11/dist-packages (from google-generativeai) (2.38.0)\n",
            "Requirement already satisfied: protobuf in /usr/local/lib/python3.11/dist-packages (from google-generativeai) (4.25.6)\n",
            "Requirement already satisfied: pydantic in /usr/local/lib/python3.11/dist-packages (from google-generativeai) (2.10.6)\n",
            "Requirement already satisfied: tqdm in /usr/local/lib/python3.11/dist-packages (from google-generativeai) (4.67.1)\n",
            "Requirement already satisfied: typing-extensions in /usr/local/lib/python3.11/dist-packages (from google-generativeai) (4.12.2)\n",
            "Requirement already satisfied: proto-plus<2.0.0dev,>=1.22.3 in /usr/local/lib/python3.11/dist-packages (from google-ai-generativelanguage==0.6.15->google-generativeai) (1.26.1)\n",
            "Requirement already satisfied: googleapis-common-protos<2.0.0,>=1.56.2 in /usr/local/lib/python3.11/dist-packages (from google-api-core->google-generativeai) (1.69.1)\n",
            "Requirement already satisfied: requests<3.0.0,>=2.18.0 in /usr/local/lib/python3.11/dist-packages (from google-api-core->google-generativeai) (2.32.3)\n",
            "Requirement already satisfied: cachetools<6.0,>=2.0.0 in /usr/local/lib/python3.11/dist-packages (from google-auth>=2.15.0->google-generativeai) (5.5.2)\n",
            "Requirement already satisfied: pyasn1-modules>=0.2.1 in /usr/local/lib/python3.11/dist-packages (from google-auth>=2.15.0->google-generativeai) (0.4.1)\n",
            "Requirement already satisfied: rsa<5,>=3.1.4 in /usr/local/lib/python3.11/dist-packages (from google-auth>=2.15.0->google-generativeai) (4.9)\n",
            "Requirement already satisfied: httplib2<1.dev0,>=0.19.0 in /usr/local/lib/python3.11/dist-packages (from google-api-python-client->google-generativeai) (0.22.0)\n",
            "Requirement already satisfied: google-auth-httplib2<1.0.0,>=0.2.0 in /usr/local/lib/python3.11/dist-packages (from google-api-python-client->google-generativeai) (0.2.0)\n",
            "Requirement already satisfied: uritemplate<5,>=3.0.1 in /usr/local/lib/python3.11/dist-packages (from google-api-python-client->google-generativeai) (4.1.1)\n",
            "Requirement already satisfied: annotated-types>=0.6.0 in /usr/local/lib/python3.11/dist-packages (from pydantic->google-generativeai) (0.7.0)\n",
            "Requirement already satisfied: pydantic-core==2.27.2 in /usr/local/lib/python3.11/dist-packages (from pydantic->google-generativeai) (2.27.2)\n",
            "Requirement already satisfied: grpcio<2.0dev,>=1.33.2 in /usr/local/lib/python3.11/dist-packages (from google-api-core[grpc]!=2.0.*,!=2.1.*,!=2.10.*,!=2.2.*,!=2.3.*,!=2.4.*,!=2.5.*,!=2.6.*,!=2.7.*,!=2.8.*,!=2.9.*,<3.0.0dev,>=1.34.1->google-ai-generativelanguage==0.6.15->google-generativeai) (1.71.0)\n",
            "Requirement already satisfied: grpcio-status<2.0.dev0,>=1.33.2 in /usr/local/lib/python3.11/dist-packages (from google-api-core[grpc]!=2.0.*,!=2.1.*,!=2.10.*,!=2.2.*,!=2.3.*,!=2.4.*,!=2.5.*,!=2.6.*,!=2.7.*,!=2.8.*,!=2.9.*,<3.0.0dev,>=1.34.1->google-ai-generativelanguage==0.6.15->google-generativeai) (1.62.3)\n",
            "Requirement already satisfied: pyparsing!=3.0.0,!=3.0.1,!=3.0.2,!=3.0.3,<4,>=2.4.2 in /usr/local/lib/python3.11/dist-packages (from httplib2<1.dev0,>=0.19.0->google-api-python-client->google-generativeai) (3.2.1)\n",
            "Requirement already satisfied: pyasn1<0.7.0,>=0.4.6 in /usr/local/lib/python3.11/dist-packages (from pyasn1-modules>=0.2.1->google-auth>=2.15.0->google-generativeai) (0.6.1)\n",
            "Requirement already satisfied: charset-normalizer<4,>=2 in /usr/local/lib/python3.11/dist-packages (from requests<3.0.0,>=2.18.0->google-api-core->google-generativeai) (3.4.1)\n",
            "Requirement already satisfied: idna<4,>=2.5 in /usr/local/lib/python3.11/dist-packages (from requests<3.0.0,>=2.18.0->google-api-core->google-generativeai) (3.10)\n",
            "Requirement already satisfied: urllib3<3,>=1.21.1 in /usr/local/lib/python3.11/dist-packages (from requests<3.0.0,>=2.18.0->google-api-core->google-generativeai) (2.3.0)\n",
            "Requirement already satisfied: certifi>=2017.4.17 in /usr/local/lib/python3.11/dist-packages (from requests<3.0.0,>=2.18.0->google-api-core->google-generativeai) (2025.1.31)\n"
          ]
        }
      ]
    },
    {
      "cell_type": "code",
      "source": [
        "import PyPDF2\n",
        "def extract_text_from_pdf(pdf_path):\n",
        "    \"\"\"Extracts text from a given health report PDF using PyPDF2.\"\"\"\n",
        "    text = \"\"\n",
        "    with open(pdf_path, \"rb\") as file:\n",
        "        reader = PyPDF2.PdfReader(file)\n",
        "        for page in reader.pages:\n",
        "            text += page.extract_text() + \"\\n\"\n",
        "    return text"
      ],
      "metadata": {
        "id": "U9oZGRBDAjUJ"
      },
      "execution_count": 8,
      "outputs": []
    },
    {
      "cell_type": "code",
      "source": [
        "def extract_health_insightS(text):\n",
        "  \"\"\"Ask Gemini AI to extract key medical insights from the report.\"\"\"\n",
        "  model=genai.GenerativeModel(\"gemini-1.5-flash\")\n",
        "  prompt=f\"Extract key insights from the following health report:\\nn{text}\"\n",
        "  response=model.generate_content(prompt)\n",
        "  return response.text\n",
        "pdf_file=\"health_report.pdf\"\n",
        "extracted_text=extract_text_from_pdf(pdf_file)\n",
        "insights=extract_health_insightS(extracted_text)\n",
        "print(\"Key Insights:\\n\",insights)"
      ],
      "metadata": {
        "colab": {
          "base_uri": "https://localhost:8080/",
          "height": 523
        },
        "id": "F0BuDo7UBQD2",
        "outputId": "308765e9-e349-4256-f5d7-c0bea2d42736"
      },
      "execution_count": 9,
      "outputs": [
        {
          "output_type": "stream",
          "name": "stdout",
          "text": [
            "Key Insights:\n",
            " The health report for Mr. Kishan Goud (MR2100003157) reveals the following key insights:\n",
            "\n",
            "**Infectious Disease Screen:**\n",
            "\n",
            "* **Negative for Dengue:**  Tests for Dengue NS1 antigen, IgG, and IgM antibodies were all negative.\n",
            "* **Widal Test:**  Elevated titers for *Salmonella Typhi* O (1:160) and H (1:80) antigens suggest possible past or present *Salmonella Typhi* infection.  However, the reference range is quite broad and further investigation would be required for confirmation, as the values aren't drastically elevated. *Salmonella Paratyphi* AH and BH titers are within the normal range.\n",
            "* **Negative for Malaria:**  Rapid malaria tests for *Plasmodium falciparum* and *Plasmodium vivax* were both negative.\n",
            "\n",
            "**Hematology:**\n",
            "\n",
            "* **Elevated ESR:**  Erythrocyte sedimentation rate (ESR) is significantly elevated (26 mm/hr in the first hour, 52 mm/hr in the second), indicating inflammation or infection.\n",
            "* **Complete Blood Count (CBC):**  Most CBC parameters are within normal limits, including Hemoglobin, RBC, WBC, Platelets, and PCV. Differential count shows normal ranges for neutrophils, lymphocytes, eosinophils, monocytes, and basophils. The peripheral blood smear analysis also reports normal findings for RBC, WBC, and platelets.\n",
            "\n",
            "\n",
            "**Biochemistry:**\n",
            "\n",
            "* **HbA1c:**  Within the normal non-diabetic range (5.4%), indicating good glycemic control.\n",
            "* **Serum Creatinine:**  Within the normal range (0.8 mg/dl), suggesting normal kidney function.\n",
            "* **Random Blood Glucose:**  The report doesn't provide the result value for random blood glucose. Therefore, we cannot comment on this.\n",
            "* **Liver Function Test (LFT):**  All LFT parameters (total bilirubin, direct bilirubin, indirect bilirubin, alkaline phosphatase, SGOT, SGPT, total protein, albumin, globulin, and A/G ratio) are within normal ranges, indicating normal liver function.\n",
            "* **Serum Electrolytes:** Serum sodium is slightly low (122 mmol/l) while serum potassium and chloride are within normal limits.  The low sodium warrants further investigation.\n",
            "\n",
            "\n",
            "**Overall:**\n",
            "\n",
            "The most notable findings are the elevated ESR and slightly low serum sodium, suggesting possible underlying inflammation or infection. The Widal test results for *Salmonella Typhi* are suggestive, but not definitive, of a prior or current infection and require further evaluation.  All other tests, including those for dengue and malaria, were negative.  Given the age and clinical presentation of the patient, further investigation is necessary to determine the cause of the elevated ESR and low sodium. The clinical context (patient's symptoms) is crucial for proper interpretation and management of these results.\n",
            "\n"
          ]
        }
      ]
    },
    {
      "cell_type": "code",
      "source": [
        "def summarize_health_report(text):\n",
        "  \"\"\"Summarizes the health report using Gemini AI.\"\"\"\n",
        "  model=genai.GenerativeModel(\"gemini-1.5-flash\")\n",
        "  prompt=f\"Summarize the following health report in a concise manner:\\n\\n{text}\"\n",
        "  response=model.generate_content(prompt)\n",
        "  return response.text\n",
        "summarized_report=summarize_health_report(extracted_text)\n",
        "print(\"Summary:\\n\",summarized_report)"
      ],
      "metadata": {
        "colab": {
          "base_uri": "https://localhost:8080/",
          "height": 89
        },
        "id": "Uu1cNL5TCYHp",
        "outputId": "444fa8ea-fd24-47d3-ac04-0014113579d4"
      },
      "execution_count": 10,
      "outputs": [
        {
          "output_type": "stream",
          "name": "stdout",
          "text": [
            "Summary:\n",
            " Mr. Kishan Goud's (MR2100003157) blood tests on 01/02/2021 showed:  Elevated ESR (26/52 mm/hr),  Widal test results suggesting possible prior exposure to *Salmonella Typhi* (O: 1:160, H: 1:80), negative dengue serology (NS1, IgG, IgM), negative malaria test,  normal complete blood count (CBC) with Hb 13.6 gms%,  HbA1c 5.4% (within normal range), normal serum creatinine (0.8 mg/dl), normal random blood glucose, and normal liver function tests with slightly low serum sodium (122 mmol/l).  All other electrolyte values were within normal limits.\n",
            "\n"
          ]
        }
      ]
    },
    {
      "cell_type": "code",
      "source": [
        "def detect_abnormalities(text):\n",
        "  \"\"\"Analyses lab test results and flags abnormal values.\"\"\"\n",
        "  model=genai.GenerativeModel(\"gemini-1.5-flash\")\n",
        "  prompt=f\"Analyze the lab test results in the following health  and highlight  any abnormal values:\\n\\n{text}\"\n",
        "  response=model.generate_content(prompt)\n",
        "  return response.text\n",
        "abnormalities=detect_abnormalities(extracted_text)\n",
        "print(\"Abnormal Values:\\n\",abnormalities)"
      ],
      "metadata": {
        "colab": {
          "base_uri": "https://localhost:8080/",
          "height": 436
        },
        "id": "BFzmWDK_FMJ7",
        "outputId": "64928023-6293-4d05-caa0-735501c78eea"
      },
      "execution_count": 12,
      "outputs": [
        {
          "output_type": "stream",
          "name": "stdout",
          "text": [
            "Abnormal Values:\n",
            " Based on the provided lab results for Mr. Kishan Goud, the following values fall outside the reference ranges, indicating potential abnormalities:\n",
            "\n",
            "\n",
            "* **Widal Test:**  Both S. Typhi \"O\" (1:160) and S. Typhi \"H\" (1:80) titers are significantly higher than the reference range (1:20). This strongly suggests a past or current infection with *Salmonella Typhi*, the bacteria that causes typhoid fever.  The high titers suggest a more significant immune response.\n",
            "\n",
            "* **ESR (Erythrocyte Sedimentation Rate):**  Both the 1st hour (26 mm/hr) and 2nd hour (52 mm/hr) ESR values are elevated compared to the reference range (0-8 mm/hr for the 1st hour).  Elevated ESR is a nonspecific indicator of inflammation or infection in the body.  It supports the possibility of an infection (likely typhoid, given the Widal results).\n",
            "\n",
            "* **Serum Sodium:** The serum sodium level (122 mmol/l) is below the reference range (135-146 mmol/l), indicating hyponatremia (low sodium in the blood). This is a significant finding and requires further investigation to determine the cause.  Hyponatremia can have several causes, including dehydration, kidney problems, or certain medications.\n",
            "\n",
            "* **Serum Chloride:** The serum chloride level (97 mmol/l) is slightly below the reference range (98-107 mmol/l). While this is a minor deviation, it could be related to the hyponatremia.\n",
            "\n",
            "\n",
            "**Other Values:**\n",
            "\n",
            "While the other values are within the reference ranges, it's important to note that:\n",
            "\n",
            "* **RBC, Hemoglobin, PCV:** These are slightly lower than the ideal values, but within the normal range. The doctor should check for conditions like anemia.\n",
            "\n",
            "* **All other values:** Are within normal limits and do not raise immediate concerns.\n",
            "\n",
            "**Important Note:**  I am an AI and cannot provide medical diagnoses.  The abnormal results, especially the high Widal titers and hyponatremia, require evaluation and interpretation by a qualified medical professional.  The doctor needs to consider these results in the context of Mr. Kishan Goud's clinical presentation (symptoms, medical history, etc.) to determine the appropriate diagnosis and treatment plan.\n",
            "\n"
          ]
        }
      ]
    },
    {
      "cell_type": "code",
      "source": [
        "def explain_medical_terms(text):\n",
        "  \"\"\" Ask Gemini AI to simplify  medical terms for patient understanding.\"\"\"\n",
        "  model=genai.GenerativeModel(\"gemini-1.5-flash\")\n",
        "  prompt=f\"Simplify the following medical terms for patient understanding:\\n\\n{text}\"\n",
        "  response=model.generate_content(prompt)\n",
        "  return response.text\n",
        "explaination=explain_medical_terms(extracted_text)\n",
        "print(\"Medical Terms:\\n\",explaination)\n"
      ],
      "metadata": {
        "colab": {
          "base_uri": "https://localhost:8080/",
          "height": 592
        },
        "id": "NqvJzfs8HM2d",
        "outputId": "4f4452b4-5edc-42ed-b2c8-665b06288dfc"
      },
      "execution_count": 13,
      "outputs": [
        {
          "output_type": "stream",
          "name": "stdout",
          "text": [
            "Medical Terms:\n",
            " This is a summary of Mr. Kishan Goud's lab results from February 1st, 2021.  These results are explained in simple terms; however, you should always discuss them with your doctor for a proper interpretation.\n",
            "\n",
            "**1. Typhoid Tests (Widal Test):**  These tests check for typhoid fever. The results show some antibodies, but not high enough to definitely diagnose typhoid.  Further evaluation may be needed.\n",
            "\n",
            "**2. Dengue Tests:** Tests for dengue fever (a mosquito-borne illness) were negative.\n",
            "\n",
            "**3. Erythrocyte Sedimentation Rate (ESR):** This test measures how quickly red blood cells settle in a tube.  Your result (26 mm/hr and 52 mm/hr) is elevated, suggesting possible inflammation.\n",
            "\n",
            "**4. Malaria Test:** This rapid test for malaria was negative.\n",
            "\n",
            "**5. Complete Blood Count (CBC):** This is a comprehensive blood test.\n",
            "\n",
            "*   **Hemoglobin (Hb):**  13.6 gm% (normal). This measures the oxygen-carrying capacity of your blood.\n",
            "*   **Red Blood Cells (RBC):** 4.3 million/cumm (slightly low, but within the normal range for many).\n",
            "*   **White Blood Cells (WBC):** 7,200 cells/cumm (normal). These fight infection.\n",
            "*   **Platelets:** 2.0 lakhs/cumm (normal). These help with blood clotting.\n",
            "*   **Other Blood Cell Types:**  All within the normal range.\n",
            "\n",
            "**6. HbA1c:**  5.4% (normal). This test indicates your average blood sugar level over the past few months.  This is within the normal range, and shows good blood sugar control.\n",
            "\n",
            "**7. Serum Creatinine:** 0.8 mg/dl (normal). This is a measure of kidney function.\n",
            "\n",
            "**8. Random Blood Glucose:** (Result missing from provided text)  This measures your current blood sugar level.\n",
            "\n",
            "**9. Liver Function Tests (LFTs):**  All liver function tests were within normal ranges.\n",
            "\n",
            "**10. Serum Electrolytes (Sodium, Potassium, Chloride):** Sodium is slightly low (122 mmol/l), while potassium and chloride are within the normal range.\n",
            "\n",
            "\n",
            "**Important Note:**  This is a simplified explanation. The numbers provided are ranges and individual results may vary.  **You MUST discuss these results with your doctor to understand their meaning in the context of your overall health and any symptoms you may be experiencing.**  Don't rely solely on this simplified summary for medical decisions.\n",
            "\n"
          ]
        }
      ]
    },
    {
      "cell_type": "code",
      "source": [
        "def ask_gemini_about_report(text, question):\n",
        "\n",
        "    \"\"\"Allows users to ask questions about their health report.\"\"\"\n",
        "\n",
        "    model = genai.GenerativeModel(\"gemini-1.5-flash\")\n",
        "\n",
        "    prompt = f\"The following is a health report:\\n\\n{text}\\n\\nAnswer the following question based on the report:\\n{question}\"\n",
        "\n",
        "    response = model.generate_content(prompt)\n",
        "\n",
        "    return response.text\n",
        "\n",
        "question = \"What is the patient's diagnosis?\"\n",
        "\n",
        "answer = ask_gemini_about_report(extracted_text, question)\n",
        "\n",
        "print(\"Answer:\\n\", answer)"
      ],
      "metadata": {
        "colab": {
          "base_uri": "https://localhost:8080/",
          "height": 89
        },
        "id": "WJwvxgoEIjYz",
        "outputId": "caefb13c-8bbd-4be5-c207-9c00ca9d5403"
      },
      "execution_count": 14,
      "outputs": [
        {
          "output_type": "stream",
          "name": "stdout",
          "text": [
            "Answer:\n",
            " The provided lab report does not offer a diagnosis.  It presents the results of various tests, some showing values outside the normal range (e.g., elevated ESR), but this is not sufficient to make a diagnosis.  A diagnosis requires clinical evaluation by a physician who considers these test results in conjunction with the patient's symptoms, medical history, and physical examination.\n",
            "\n"
          ]
        }
      ]
    }
  ]
}